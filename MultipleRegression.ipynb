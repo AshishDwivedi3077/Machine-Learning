{
 "cells": [
  {
   "cell_type": "code",
   "execution_count": 3,
   "metadata": {},
   "outputs": [
    {
     "data": {
      "text/html": [
       "<div>\n",
       "<style scoped>\n",
       "    .dataframe tbody tr th:only-of-type {\n",
       "        vertical-align: middle;\n",
       "    }\n",
       "\n",
       "    .dataframe tbody tr th {\n",
       "        vertical-align: top;\n",
       "    }\n",
       "\n",
       "    .dataframe thead th {\n",
       "        text-align: right;\n",
       "    }\n",
       "</style>\n",
       "<table border=\"1\" class=\"dataframe\">\n",
       "  <thead>\n",
       "    <tr style=\"text-align: right;\">\n",
       "      <th></th>\n",
       "      <th>RND</th>\n",
       "      <th>ADMIN</th>\n",
       "      <th>MKT</th>\n",
       "      <th>STATE</th>\n",
       "      <th>PROFIT</th>\n",
       "    </tr>\n",
       "  </thead>\n",
       "  <tbody>\n",
       "    <tr>\n",
       "      <th>0</th>\n",
       "      <td>165349.2</td>\n",
       "      <td>136897.80</td>\n",
       "      <td>471784.10</td>\n",
       "      <td>New York</td>\n",
       "      <td>192261.83</td>\n",
       "    </tr>\n",
       "    <tr>\n",
       "      <th>1</th>\n",
       "      <td>162597.7</td>\n",
       "      <td>151377.59</td>\n",
       "      <td>443898.53</td>\n",
       "      <td>California</td>\n",
       "      <td>191792.06</td>\n",
       "    </tr>\n",
       "  </tbody>\n",
       "</table>\n",
       "</div>"
      ],
      "text/plain": [
       "        RND      ADMIN        MKT       STATE     PROFIT\n",
       "0  165349.2  136897.80  471784.10    New York  192261.83\n",
       "1  162597.7  151377.59  443898.53  California  191792.06"
      ]
     },
     "execution_count": 3,
     "metadata": {},
     "output_type": "execute_result"
    }
   ],
   "source": [
    "import pandas as pd\n",
    "a=pd.read_excel(r\"C:\\Users\\ashishkumd2\\Desktop\\SOurcs\\ML\\Datsets\\Startup.xlsx\")\n",
    "a.head(2)"
   ]
  },
  {
   "cell_type": "code",
   "execution_count": 4,
   "metadata": {},
   "outputs": [],
   "source": [
    "from sklearn.model_selection import train_test_split\n",
    "from sklearn.linear_model import LinearRegression\n",
    "from sklearn.metrics import mean_absolute_error,explained_variance_score\n",
    "import numpy as np"
   ]
  },
  {
   "cell_type": "code",
   "execution_count": 5,
   "metadata": {},
   "outputs": [
    {
     "name": "stdout",
     "output_type": "stream",
     "text": [
      "10 0.9839030251118803\n",
      "20 0.9502856751843165\n",
      "30 0.9436664910642145\n",
      "40 0.9331208016369228\n",
      "50 0.9431280012727978\n",
      "mean is : 0.95\n"
     ]
    }
   ],
   "source": [
    "ex=[]\n",
    "for i in range(10,60,10):\n",
    "\n",
    "  x=a[['RND']]\n",
    "  y=a[['PROFIT']]\n",
    "  xtrain,xtest,ytrain,ytest=train_test_split(x,y,test_size=0.2,random_state=i)\n",
    "  lm=LinearRegression()\n",
    "  lm.fit(xtrain,ytrain)\n",
    "  pred=lm.predict(xtest)\n",
    "  ex.append(explained_variance_score(ytest,pred))\n",
    "  print(i ,  explained_variance_score(ytest,pred))\n",
    "\n",
    "print( \"mean is : %.2f\" %np.mean(ex))"
   ]
  },
  {
   "cell_type": "code",
   "execution_count": 6,
   "metadata": {},
   "outputs": [
    {
     "ename": "AttributeError",
     "evalue": "'LinearRegression' object has no attribute 'feature_importances_'",
     "output_type": "error",
     "traceback": [
      "\u001b[1;31m---------------------------------------------------------------------------\u001b[0m",
      "\u001b[1;31mAttributeError\u001b[0m                            Traceback (most recent call last)",
      "\u001b[1;32m<ipython-input-6-2fd2ae10909a>\u001b[0m in \u001b[0;36m<module>\u001b[1;34m\u001b[0m\n\u001b[1;32m----> 1\u001b[1;33m \u001b[0mlm\u001b[0m\u001b[1;33m.\u001b[0m\u001b[0mfeature_importances_\u001b[0m\u001b[1;33m\u001b[0m\u001b[1;33m\u001b[0m\u001b[0m\n\u001b[0m",
      "\u001b[1;31mAttributeError\u001b[0m: 'LinearRegression' object has no attribute 'feature_importances_'"
     ]
    }
   ],
   "source": [
    "lm.feature_importances_"
   ]
  },
  {
   "cell_type": "code",
   "execution_count": 9,
   "metadata": {},
   "outputs": [
    {
     "name": "stdout",
     "output_type": "stream",
     "text": [
      "10 0.98697675997221\n",
      "20 0.9490583252882042\n",
      "30 0.9463225383793346\n",
      "40 0.9347433699188288\n",
      "50 0.9475901293587352\n",
      "mean is : 0.95\n"
     ]
    }
   ],
   "source": [
    "ex=[]\n",
    "for i in range(10,60,10):\n",
    "\n",
    "  x=a[['RND','ADMIN']]\n",
    "  y=a[['PROFIT']]\n",
    "  xtrain,xtest,ytrain,ytest=train_test_split(x,y,test_size=0.2,random_state=i)\n",
    "  lm=LinearRegression()\n",
    "  lm.fit(xtrain,ytrain)\n",
    "  pred=lm.predict(xtest)\n",
    "  ex.append(explained_variance_score(ytest,pred))\n",
    "  print(i ,  explained_variance_score(ytest,pred))\n",
    "\n",
    "print( \"mean is : %.2f\" %np.mean(ex))  "
   ]
  },
  {
   "cell_type": "code",
   "execution_count": 11,
   "metadata": {},
   "outputs": [
    {
     "name": "stdout",
     "output_type": "stream",
     "text": [
      "10 0.9917653910602178\n",
      "20 0.9484063679435386\n",
      "30 0.952996193169165\n",
      "40 0.9360546827149341\n",
      "50 0.9549384578699083\n",
      "mean is : 0.96\n"
     ]
    }
   ],
   "source": [
    "ex=[]\n",
    "for i in range(10,60,10):\n",
    "\n",
    "  x=a[['RND','ADMIN','MKT']]\n",
    "  y=a[['PROFIT']]\n",
    "  xtrain,xtest,ytrain,ytest=train_test_split(x,y,test_size=0.2,random_state=i)\n",
    "  lm=LinearRegression()\n",
    "  lm.fit(xtrain,ytrain)\n",
    "  pred=lm.predict(xtest)\n",
    "  ex.append(explained_variance_score(ytest,pred))\n",
    "  print(i ,  explained_variance_score(ytest,pred))\n",
    "print( \"mean is : %.2f\" %np.mean(ex)) "
   ]
  },
  {
   "cell_type": "markdown",
   "metadata": {},
   "source": [
    "# Using OLS"
   ]
  },
  {
   "cell_type": "code",
   "execution_count": 12,
   "metadata": {},
   "outputs": [],
   "source": [
    "from statsmodels.api import OLS,add_constant\n"
   ]
  },
  {
   "cell_type": "code",
   "execution_count": 13,
   "metadata": {},
   "outputs": [
    {
     "data": {
      "text/html": [
       "<table class=\"simpletable\">\n",
       "<caption>OLS Regression Results</caption>\n",
       "<tr>\n",
       "  <th>Dep. Variable:</th>         <td>PROFIT</td>      <th>  R-squared:         </th> <td>   0.953</td>\n",
       "</tr>\n",
       "<tr>\n",
       "  <th>Model:</th>                   <td>OLS</td>       <th>  Adj. R-squared:    </th> <td>   0.951</td>\n",
       "</tr>\n",
       "<tr>\n",
       "  <th>Method:</th>             <td>Least Squares</td>  <th>  F-statistic:       </th> <td>   376.8</td>\n",
       "</tr>\n",
       "<tr>\n",
       "  <th>Date:</th>             <td>Sun, 19 Jul 2020</td> <th>  Prob (F-statistic):</th> <td>2.51e-25</td>\n",
       "</tr>\n",
       "<tr>\n",
       "  <th>Time:</th>                 <td>19:51:50</td>     <th>  Log-Likelihood:    </th> <td> -414.34</td>\n",
       "</tr>\n",
       "<tr>\n",
       "  <th>No. Observations:</th>      <td>    40</td>      <th>  AIC:               </th> <td>   834.7</td>\n",
       "</tr>\n",
       "<tr>\n",
       "  <th>Df Residuals:</th>          <td>    37</td>      <th>  BIC:               </th> <td>   839.7</td>\n",
       "</tr>\n",
       "<tr>\n",
       "  <th>Df Model:</th>              <td>     2</td>      <th>                     </th>     <td> </td>   \n",
       "</tr>\n",
       "<tr>\n",
       "  <th>Covariance Type:</th>      <td>nonrobust</td>    <th>                     </th>     <td> </td>   \n",
       "</tr>\n",
       "</table>\n",
       "<table class=\"simpletable\">\n",
       "<tr>\n",
       "    <td></td>       <th>coef</th>     <th>std err</th>      <th>t</th>      <th>P>|t|</th>  <th>[0.025</th>    <th>0.975]</th>  \n",
       "</tr>\n",
       "<tr>\n",
       "  <th>const</th> <td> 5.234e+04</td> <td> 5724.572</td> <td>    9.143</td> <td> 0.000</td> <td> 4.07e+04</td> <td> 6.39e+04</td>\n",
       "</tr>\n",
       "<tr>\n",
       "  <th>RND</th>   <td>    0.8342</td> <td>    0.032</td> <td>   25.997</td> <td> 0.000</td> <td>    0.769</td> <td>    0.899</td>\n",
       "</tr>\n",
       "<tr>\n",
       "  <th>ADMIN</th> <td>   -0.0163</td> <td>    0.048</td> <td>   -0.342</td> <td> 0.735</td> <td>   -0.113</td> <td>    0.080</td>\n",
       "</tr>\n",
       "</table>\n",
       "<table class=\"simpletable\">\n",
       "<tr>\n",
       "  <th>Omnibus:</th>       <td> 0.329</td> <th>  Durbin-Watson:     </th> <td>   1.745</td>\n",
       "</tr>\n",
       "<tr>\n",
       "  <th>Prob(Omnibus):</th> <td> 0.848</td> <th>  Jarque-Bera (JB):  </th> <td>   0.102</td>\n",
       "</tr>\n",
       "<tr>\n",
       "  <th>Skew:</th>          <td>-0.124</td> <th>  Prob(JB):          </th> <td>   0.950</td>\n",
       "</tr>\n",
       "<tr>\n",
       "  <th>Kurtosis:</th>      <td> 2.990</td> <th>  Cond. No.          </th> <td>6.77e+05</td>\n",
       "</tr>\n",
       "</table><br/><br/>Warnings:<br/>[1] Standard Errors assume that the covariance matrix of the errors is correctly specified.<br/>[2] The condition number is large, 6.77e+05. This might indicate that there are<br/>strong multicollinearity or other numerical problems."
      ],
      "text/plain": [
       "<class 'statsmodels.iolib.summary.Summary'>\n",
       "\"\"\"\n",
       "                            OLS Regression Results                            \n",
       "==============================================================================\n",
       "Dep. Variable:                 PROFIT   R-squared:                       0.953\n",
       "Model:                            OLS   Adj. R-squared:                  0.951\n",
       "Method:                 Least Squares   F-statistic:                     376.8\n",
       "Date:                Sun, 19 Jul 2020   Prob (F-statistic):           2.51e-25\n",
       "Time:                        19:51:50   Log-Likelihood:                -414.34\n",
       "No. Observations:                  40   AIC:                             834.7\n",
       "Df Residuals:                      37   BIC:                             839.7\n",
       "Df Model:                           2                                         \n",
       "Covariance Type:            nonrobust                                         \n",
       "==============================================================================\n",
       "                 coef    std err          t      P>|t|      [0.025      0.975]\n",
       "------------------------------------------------------------------------------\n",
       "const       5.234e+04   5724.572      9.143      0.000    4.07e+04    6.39e+04\n",
       "RND            0.8342      0.032     25.997      0.000       0.769       0.899\n",
       "ADMIN         -0.0163      0.048     -0.342      0.735      -0.113       0.080\n",
       "==============================================================================\n",
       "Omnibus:                        0.329   Durbin-Watson:                   1.745\n",
       "Prob(Omnibus):                  0.848   Jarque-Bera (JB):                0.102\n",
       "Skew:                          -0.124   Prob(JB):                        0.950\n",
       "Kurtosis:                       2.990   Cond. No.                     6.77e+05\n",
       "==============================================================================\n",
       "\n",
       "Warnings:\n",
       "[1] Standard Errors assume that the covariance matrix of the errors is correctly specified.\n",
       "[2] The condition number is large, 6.77e+05. This might indicate that there are\n",
       "strong multicollinearity or other numerical problems.\n",
       "\"\"\""
      ]
     },
     "execution_count": 13,
     "metadata": {},
     "output_type": "execute_result"
    }
   ],
   "source": [
    "X = a[[\"RND\",\"ADMIN\"]]\n",
    "Y = a[[\"PROFIT\"]]\n",
    "from sklearn.model_selection import train_test_split\n",
    "xtrain,xtest,ytrain,ytest=train_test_split(X,Y,test_size=0.2,random_state=40)\n",
    "\n",
    "from statsmodels.api import OLS,add_constant\n",
    "xconst = add_constant(xtrain)\n",
    "ols = OLS(ytrain,xconst)\n",
    "model = ols.fit()\n",
    "model.summary()"
   ]
  },
  {
   "cell_type": "code",
   "execution_count": 14,
   "metadata": {},
   "outputs": [
    {
     "data": {
      "text/html": [
       "<table class=\"simpletable\">\n",
       "<caption>OLS Regression Results</caption>\n",
       "<tr>\n",
       "  <th>Dep. Variable:</th>         <td>PROFIT</td>      <th>  R-squared:         </th> <td>   0.953</td>\n",
       "</tr>\n",
       "<tr>\n",
       "  <th>Model:</th>                   <td>OLS</td>       <th>  Adj. R-squared:    </th> <td>   0.952</td>\n",
       "</tr>\n",
       "<tr>\n",
       "  <th>Method:</th>             <td>Least Squares</td>  <th>  F-statistic:       </th> <td>   771.4</td>\n",
       "</tr>\n",
       "<tr>\n",
       "  <th>Date:</th>             <td>Sun, 19 Jul 2020</td> <th>  Prob (F-statistic):</th> <td>7.59e-27</td>\n",
       "</tr>\n",
       "<tr>\n",
       "  <th>Time:</th>                 <td>19:51:50</td>     <th>  Log-Likelihood:    </th> <td> -414.40</td>\n",
       "</tr>\n",
       "<tr>\n",
       "  <th>No. Observations:</th>      <td>    40</td>      <th>  AIC:               </th> <td>   832.8</td>\n",
       "</tr>\n",
       "<tr>\n",
       "  <th>Df Residuals:</th>          <td>    38</td>      <th>  BIC:               </th> <td>   836.2</td>\n",
       "</tr>\n",
       "<tr>\n",
       "  <th>Df Model:</th>              <td>     1</td>      <th>                     </th>     <td> </td>   \n",
       "</tr>\n",
       "<tr>\n",
       "  <th>Covariance Type:</th>      <td>nonrobust</td>    <th>                     </th>     <td> </td>   \n",
       "</tr>\n",
       "</table>\n",
       "<table class=\"simpletable\">\n",
       "<tr>\n",
       "    <td></td>       <th>coef</th>     <th>std err</th>      <th>t</th>      <th>P>|t|</th>  <th>[0.025</th>    <th>0.975]</th>  \n",
       "</tr>\n",
       "<tr>\n",
       "  <th>const</th> <td> 5.058e+04</td> <td> 2491.042</td> <td>   20.306</td> <td> 0.000</td> <td> 4.55e+04</td> <td> 5.56e+04</td>\n",
       "</tr>\n",
       "<tr>\n",
       "  <th>RND</th>   <td>    0.8305</td> <td>    0.030</td> <td>   27.774</td> <td> 0.000</td> <td>    0.770</td> <td>    0.891</td>\n",
       "</tr>\n",
       "</table>\n",
       "<table class=\"simpletable\">\n",
       "<tr>\n",
       "  <th>Omnibus:</th>       <td> 0.188</td> <th>  Durbin-Watson:     </th> <td>   1.714</td>\n",
       "</tr>\n",
       "<tr>\n",
       "  <th>Prob(Omnibus):</th> <td> 0.910</td> <th>  Jarque-Bera (JB):  </th> <td>   0.078</td>\n",
       "</tr>\n",
       "<tr>\n",
       "  <th>Skew:</th>          <td>-0.099</td> <th>  Prob(JB):          </th> <td>   0.962</td>\n",
       "</tr>\n",
       "<tr>\n",
       "  <th>Kurtosis:</th>      <td> 2.912</td> <th>  Cond. No.          </th> <td>1.67e+05</td>\n",
       "</tr>\n",
       "</table><br/><br/>Warnings:<br/>[1] Standard Errors assume that the covariance matrix of the errors is correctly specified.<br/>[2] The condition number is large, 1.67e+05. This might indicate that there are<br/>strong multicollinearity or other numerical problems."
      ],
      "text/plain": [
       "<class 'statsmodels.iolib.summary.Summary'>\n",
       "\"\"\"\n",
       "                            OLS Regression Results                            \n",
       "==============================================================================\n",
       "Dep. Variable:                 PROFIT   R-squared:                       0.953\n",
       "Model:                            OLS   Adj. R-squared:                  0.952\n",
       "Method:                 Least Squares   F-statistic:                     771.4\n",
       "Date:                Sun, 19 Jul 2020   Prob (F-statistic):           7.59e-27\n",
       "Time:                        19:51:50   Log-Likelihood:                -414.40\n",
       "No. Observations:                  40   AIC:                             832.8\n",
       "Df Residuals:                      38   BIC:                             836.2\n",
       "Df Model:                           1                                         \n",
       "Covariance Type:            nonrobust                                         \n",
       "==============================================================================\n",
       "                 coef    std err          t      P>|t|      [0.025      0.975]\n",
       "------------------------------------------------------------------------------\n",
       "const       5.058e+04   2491.042     20.306      0.000    4.55e+04    5.56e+04\n",
       "RND            0.8305      0.030     27.774      0.000       0.770       0.891\n",
       "==============================================================================\n",
       "Omnibus:                        0.188   Durbin-Watson:                   1.714\n",
       "Prob(Omnibus):                  0.910   Jarque-Bera (JB):                0.078\n",
       "Skew:                          -0.099   Prob(JB):                        0.962\n",
       "Kurtosis:                       2.912   Cond. No.                     1.67e+05\n",
       "==============================================================================\n",
       "\n",
       "Warnings:\n",
       "[1] Standard Errors assume that the covariance matrix of the errors is correctly specified.\n",
       "[2] The condition number is large, 1.67e+05. This might indicate that there are\n",
       "strong multicollinearity or other numerical problems.\n",
       "\"\"\""
      ]
     },
     "execution_count": 14,
     "metadata": {},
     "output_type": "execute_result"
    }
   ],
   "source": [
    "X = a[[\"RND\"]]\n",
    "Y = a[[\"PROFIT\"]]\n",
    "from sklearn.model_selection import train_test_split\n",
    "xtrain,xtest,ytrain,ytest=train_test_split(X,Y,test_size=0.2,random_state=40)\n",
    "\n",
    "from statsmodels.api import OLS,add_constant\n",
    "xconst = add_constant(xtrain)\n",
    "\n",
    "ols = OLS(ytrain,xconst)\n",
    "model = ols.fit()\n",
    "model.summary()"
   ]
  },
  {
   "cell_type": "code",
   "execution_count": 15,
   "metadata": {},
   "outputs": [
    {
     "data": {
      "text/html": [
       "<table class=\"simpletable\">\n",
       "<caption>OLS Regression Results</caption>\n",
       "<tr>\n",
       "  <th>Dep. Variable:</th>         <td>PROFIT</td>      <th>  R-squared:         </th> <td>   0.959</td>\n",
       "</tr>\n",
       "<tr>\n",
       "  <th>Model:</th>                   <td>OLS</td>       <th>  Adj. R-squared:    </th> <td>   0.955</td>\n",
       "</tr>\n",
       "<tr>\n",
       "  <th>Method:</th>             <td>Least Squares</td>  <th>  F-statistic:       </th> <td>   207.2</td>\n",
       "</tr>\n",
       "<tr>\n",
       "  <th>Date:</th>             <td>Sun, 19 Jul 2020</td> <th>  Prob (F-statistic):</th> <td>7.65e-24</td>\n",
       "</tr>\n",
       "<tr>\n",
       "  <th>Time:</th>                 <td>19:51:50</td>     <th>  Log-Likelihood:    </th> <td> -411.45</td>\n",
       "</tr>\n",
       "<tr>\n",
       "  <th>No. Observations:</th>      <td>    40</td>      <th>  AIC:               </th> <td>   832.9</td>\n",
       "</tr>\n",
       "<tr>\n",
       "  <th>Df Residuals:</th>          <td>    35</td>      <th>  BIC:               </th> <td>   841.3</td>\n",
       "</tr>\n",
       "<tr>\n",
       "  <th>Df Model:</th>              <td>     4</td>      <th>                     </th>     <td> </td>   \n",
       "</tr>\n",
       "<tr>\n",
       "  <th>Covariance Type:</th>      <td>nonrobust</td>    <th>                     </th>     <td> </td>   \n",
       "</tr>\n",
       "</table>\n",
       "<table class=\"simpletable\">\n",
       "<tr>\n",
       "       <td></td>         <th>coef</th>     <th>std err</th>      <th>t</th>      <th>P>|t|</th>  <th>[0.025</th>    <th>0.975]</th>  \n",
       "</tr>\n",
       "<tr>\n",
       "  <th>const</th>      <td> 3.595e+04</td> <td> 2018.382</td> <td>   17.812</td> <td> 0.000</td> <td> 3.19e+04</td> <td>    4e+04</td>\n",
       "</tr>\n",
       "<tr>\n",
       "  <th>RND</th>        <td>    0.7904</td> <td>    0.037</td> <td>   21.095</td> <td> 0.000</td> <td>    0.714</td> <td>    0.866</td>\n",
       "</tr>\n",
       "<tr>\n",
       "  <th>MKT</th>        <td>    0.0267</td> <td>    0.014</td> <td>    1.943</td> <td> 0.060</td> <td>   -0.001</td> <td>    0.055</td>\n",
       "</tr>\n",
       "<tr>\n",
       "  <th>California</th> <td>  1.36e+04</td> <td> 1699.071</td> <td>    8.003</td> <td> 0.000</td> <td> 1.01e+04</td> <td>  1.7e+04</td>\n",
       "</tr>\n",
       "<tr>\n",
       "  <th>Florida</th>    <td> 1.237e+04</td> <td> 1935.290</td> <td>    6.390</td> <td> 0.000</td> <td> 8438.565</td> <td> 1.63e+04</td>\n",
       "</tr>\n",
       "<tr>\n",
       "  <th>New York</th>   <td> 9986.6804</td> <td> 1903.298</td> <td>    5.247</td> <td> 0.000</td> <td> 6122.780</td> <td> 1.39e+04</td>\n",
       "</tr>\n",
       "</table>\n",
       "<table class=\"simpletable\">\n",
       "<tr>\n",
       "  <th>Omnibus:</th>       <td> 0.069</td> <th>  Durbin-Watson:     </th> <td>   1.854</td>\n",
       "</tr>\n",
       "<tr>\n",
       "  <th>Prob(Omnibus):</th> <td> 0.966</td> <th>  Jarque-Bera (JB):  </th> <td>   0.061</td>\n",
       "</tr>\n",
       "<tr>\n",
       "  <th>Skew:</th>          <td> 0.055</td> <th>  Prob(JB):          </th> <td>   0.970</td>\n",
       "</tr>\n",
       "<tr>\n",
       "  <th>Kurtosis:</th>      <td> 2.842</td> <th>  Cond. No.          </th> <td>2.01e+21</td>\n",
       "</tr>\n",
       "</table><br/><br/>Warnings:<br/>[1] Standard Errors assume that the covariance matrix of the errors is correctly specified.<br/>[2] The smallest eigenvalue is 6.02e-31. This might indicate that there are<br/>strong multicollinearity problems or that the design matrix is singular."
      ],
      "text/plain": [
       "<class 'statsmodels.iolib.summary.Summary'>\n",
       "\"\"\"\n",
       "                            OLS Regression Results                            \n",
       "==============================================================================\n",
       "Dep. Variable:                 PROFIT   R-squared:                       0.959\n",
       "Model:                            OLS   Adj. R-squared:                  0.955\n",
       "Method:                 Least Squares   F-statistic:                     207.2\n",
       "Date:                Sun, 19 Jul 2020   Prob (F-statistic):           7.65e-24\n",
       "Time:                        19:51:50   Log-Likelihood:                -411.45\n",
       "No. Observations:                  40   AIC:                             832.9\n",
       "Df Residuals:                      35   BIC:                             841.3\n",
       "Df Model:                           4                                         \n",
       "Covariance Type:            nonrobust                                         \n",
       "==============================================================================\n",
       "                 coef    std err          t      P>|t|      [0.025      0.975]\n",
       "------------------------------------------------------------------------------\n",
       "const       3.595e+04   2018.382     17.812      0.000    3.19e+04       4e+04\n",
       "RND            0.7904      0.037     21.095      0.000       0.714       0.866\n",
       "MKT            0.0267      0.014      1.943      0.060      -0.001       0.055\n",
       "California   1.36e+04   1699.071      8.003      0.000    1.01e+04     1.7e+04\n",
       "Florida     1.237e+04   1935.290      6.390      0.000    8438.565    1.63e+04\n",
       "New York    9986.6804   1903.298      5.247      0.000    6122.780    1.39e+04\n",
       "==============================================================================\n",
       "Omnibus:                        0.069   Durbin-Watson:                   1.854\n",
       "Prob(Omnibus):                  0.966   Jarque-Bera (JB):                0.061\n",
       "Skew:                           0.055   Prob(JB):                        0.970\n",
       "Kurtosis:                       2.842   Cond. No.                     2.01e+21\n",
       "==============================================================================\n",
       "\n",
       "Warnings:\n",
       "[1] Standard Errors assume that the covariance matrix of the errors is correctly specified.\n",
       "[2] The smallest eigenvalue is 6.02e-31. This might indicate that there are\n",
       "strong multicollinearity problems or that the design matrix is singular.\n",
       "\"\"\""
      ]
     },
     "execution_count": 15,
     "metadata": {},
     "output_type": "execute_result"
    }
   ],
   "source": [
    "X = a[[\"RND\",\"MKT\"]]\n",
    "X = X.join(pd.get_dummies(a.STATE))\n",
    "\n",
    "Y = a[[\"PROFIT\"]]\n",
    "from sklearn.model_selection import train_test_split\n",
    "xtrain,xtest,ytrain,ytest=train_test_split(X,Y,test_size=0.2,random_state=40)\n",
    "\n",
    "from statsmodels.api import OLS,add_constant\n",
    "xconst = add_constant(xtrain)\n",
    "\n",
    "ols = OLS(ytrain,xconst)\n",
    "model = ols.fit()\n",
    "model.summary()\n"
   ]
  },
  {
   "cell_type": "code",
   "execution_count": null,
   "metadata": {},
   "outputs": [],
   "source": []
  },
  {
   "cell_type": "code",
   "execution_count": null,
   "metadata": {},
   "outputs": [],
   "source": []
  }
 ],
 "metadata": {
  "kernelspec": {
   "display_name": "Python 3",
   "language": "python",
   "name": "python3"
  },
  "language_info": {
   "codemirror_mode": {
    "name": "ipython",
    "version": 3
   },
   "file_extension": ".py",
   "mimetype": "text/x-python",
   "name": "python",
   "nbconvert_exporter": "python",
   "pygments_lexer": "ipython3",
   "version": "3.8.3"
  }
 },
 "nbformat": 4,
 "nbformat_minor": 4
}
