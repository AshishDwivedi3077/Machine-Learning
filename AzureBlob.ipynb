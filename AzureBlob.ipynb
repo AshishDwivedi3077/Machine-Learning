{
 "cells": [
  {
   "cell_type": "code",
   "execution_count": 23,
   "metadata": {},
   "outputs": [],
   "source": [
    "import os, uuid\n",
    "from azure.storage.blob import BlobServiceClient, BlobClient, ContainerClient\n",
    "import requests\n",
    "from urllib.request import urlopen\n"
   ]
  },
  {
   "cell_type": "code",
   "execution_count": 24,
   "metadata": {},
   "outputs": [
    {
     "name": "stdout",
     "output_type": "stream",
     "text": [
      "\n",
      "Uploading to Azure Storage as blob:\n",
      "\thttps://checklistform.blob.core.windows.net/editedjson/AATEst.pdf\n",
      "Uploaded to blob\n"
     ]
    }
   ],
   "source": [
    "blob_service_client = BlobServiceClient.from_connection_string('DefaultEndpointsProtocol=https;AccountName=checklistform;AccountKey=dpZeiTIELCgVGxRxqYkhqAx42b8pWND2onchJ83+yXgHqbkMkPS5aKbmmVMtdDJdENFmmH3EuHhANmUQ02d7TQ==;EndpointSuffix=core.windows.net')\n",
    "\n",
    "container_client = blob_service_client.get_container_client(\"analizedforms\")\n",
    "source = r\"C:\\Users\\ashishkumd2\\Desktop\\PowerApps\\AleSodte_Workspace.pdf\"\n",
    "\n",
    "url = 'https://checklistform.blob.core.windows.net/editedjson/AATEst.pdf'\n",
    "r = requests.get(url, allow_redirects=True)\n",
    "\n",
    "print(\"\\nUploading to Azure Storage as blob:\\n\\t\" + url)\n",
    "\n",
    "data = urlopen( 'https://checklistform.blob.core.windows.net/editedjson/AATEst.pdf')\n",
    "\n",
    "blob_client.upload_blob(\"Udaasdsadsadsadrlll.pdf\",data,overwrite=True)\n",
    "    \n",
    "print(\"Uploaded to blob\")"
   ]
  },
  {
   "cell_type": "code",
   "execution_count": 22,
   "metadata": {},
   "outputs": [
    {
     "name": "stdout",
     "output_type": "stream",
     "text": [
      "Note: you may need to restart the kernel to use updated packages.\n"
     ]
    },
    {
     "name": "stderr",
     "output_type": "stream",
     "text": [
      "ERROR: Could not find a version that satisfies the requirement urllib (from versions: none)\n",
      "ERROR: No matching distribution found for urllib\n"
     ]
    }
   ],
   "source": [
    "pip install urllib"
   ]
  },
  {
   "cell_type": "code",
   "execution_count": 3,
   "metadata": {},
   "outputs": [
    {
     "name": "stdout",
     "output_type": "stream",
     "text": [
      "\n",
      "Listing blobs...\n",
      "['Result-WorkspaceInspection1.json', 'Result-WorkspaceInspection3.json', 'abc.txt']\n"
     ]
    }
   ],
   "source": [
    "print(\"\\nListing blobs...\")\n",
    "\n",
    "analysed_Json=[]\n",
    "\n",
    "# List the blobs in the containerA\n",
    "blob_list = container_client.list_blobs()\n",
    "for blob in blob_list:\n",
    "    analysed_Json.append(blob.name)\n",
    "\n",
    "print(analysed_Json)"
   ]
  },
  {
   "cell_type": "code",
   "execution_count": 4,
   "metadata": {},
   "outputs": [],
   "source": [
    "analysed_Json=[]\n",
    "\n",
    "# List the blobs in the containerA\n",
    "blob_list = container_client.list_blobs()\n",
    "for blob in blob_list:\n",
    "    analysed_Json.append(blob.name)\n"
   ]
  },
  {
   "cell_type": "code",
   "execution_count": 5,
   "metadata": {},
   "outputs": [
    {
     "name": "stdout",
     "output_type": "stream",
     "text": [
      "downloaded  Result-WorkspaceInspection1.json\n",
      "downloaded  Result-WorkspaceInspection3.json\n",
      "downloaded  abc.txt\n"
     ]
    }
   ],
   "source": [
    "for f in analysed_Json:\n",
    "   # local_file_name1=f\n",
    "    download_file_path = os.path.join(local_path, str.replace(f ,'.json', '.json'))\n",
    "\n",
    "    with open(download_file_path, \"wb\") as my_blob:\n",
    "        download_stream = container_client.download_blob(f)\n",
    "        my_blob.write(download_stream.readall())\n",
    "        print(\"downloaded  \" +f)\n",
    "    "
   ]
  },
  {
   "cell_type": "code",
   "execution_count": 107,
   "metadata": {},
   "outputs": [
    {
     "name": "stdout",
     "output_type": "stream",
     "text": [
      "\n",
      "Downloading blob to \n",
      "\tC:\\Users\\ashishkumd2\\Desktop\\FormRecognization\\data\\Result-WorkspaceInspection1.txt\n",
      "C:\\Users\\ashishkumd2\\Desktop\\FormRecognization\\data\\Result-WorkspaceInspection1.txt\n"
     ]
    }
   ],
   "source": [
    "# Download the blob to a local file\n",
    "# Add 'DOWNLOAD' before the .txt extension so you can see both files in the data directory\n",
    "local_file_name1=\"Result-WorkspaceInspection.json\"\n",
    "download_file_path = os.path.join(local_path, str.replace(local_file_name1 ,'.json', '_DOWNLOAD.json'))\n",
    "print(\"\\nDownloading blob to \\n\\t\" + download_file_path)\n",
    "\n",
    "with open(download_file_path, \"wb\") as my_blob:\n",
    "    print(download_file_path)\n",
    "    download_stream = container_client.download_blob(\"Result-WorkspaceInspection1.json\")\n",
    "    my_blob.write(download_stream.readall())\n"
   ]
  },
  {
   "cell_type": "code",
   "execution_count": null,
   "metadata": {},
   "outputs": [],
   "source": []
  },
  {
   "cell_type": "code",
   "execution_count": null,
   "metadata": {},
   "outputs": [],
   "source": []
  },
  {
   "cell_type": "code",
   "execution_count": null,
   "metadata": {},
   "outputs": [],
   "source": []
  },
  {
   "cell_type": "code",
   "execution_count": null,
   "metadata": {},
   "outputs": [],
   "source": []
  },
  {
   "cell_type": "code",
   "execution_count": null,
   "metadata": {},
   "outputs": [],
   "source": []
  },
  {
   "cell_type": "code",
   "execution_count": null,
   "metadata": {},
   "outputs": [],
   "source": []
  }
 ],
 "metadata": {
  "kernelspec": {
   "display_name": "Python 3",
   "language": "python",
   "name": "python3"
  },
  "language_info": {
   "codemirror_mode": {
    "name": "ipython",
    "version": 3
   },
   "file_extension": ".py",
   "mimetype": "text/x-python",
   "name": "python",
   "nbconvert_exporter": "python",
   "pygments_lexer": "ipython3",
   "version": "3.8.3"
  }
 },
 "nbformat": 4,
 "nbformat_minor": 4
}
